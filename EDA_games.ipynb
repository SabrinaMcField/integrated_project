{
 "cells": [
  {
   "cell_type": "code",
   "execution_count": null,
   "id": "9f6f788b-9fe7-47e5-8adf-cfece4851af7",
   "metadata": {},
   "outputs": [],
   "source": []
  }
 ],
 "metadata": {
  "kernelspec": {
   "display_name": "",
   "name": ""
  },
  "language_info": {
   "name": ""
  }
 },
 "nbformat": 4,
 "nbformat_minor": 5
}
